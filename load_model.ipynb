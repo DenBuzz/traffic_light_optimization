{
 "cells": [
  {
   "cell_type": "code",
   "execution_count": 1,
   "metadata": {},
   "outputs": [
    {
     "name": "stderr",
     "output_type": "stream",
     "text": [
      "/home/trey/anaconda3/envs/traffic_sim/lib/python3.8/site-packages/redis/connection.py:72: UserWarning: redis-py works best with hiredis. Please consider installing\n",
      "  warnings.warn(msg)\n"
     ]
    },
    {
     "name": "stdout",
     "output_type": "stream",
     "text": [
      "pygame 2.1.0 (SDL 2.0.16, Python 3.8.8)\n",
      "Hello from the pygame community. https://www.pygame.org/contribute.html\n"
     ]
    }
   ],
   "source": [
    "from ray.rllib.agents.ppo import PPOTrainer\n",
    "from ray.rllib.agents.dqn import ApexTrainer\n",
    "from training.configs import GENERAL_CONFIG\n",
    "from training.platforms.traffic_env import TrafficEnv\n",
    "import numpy as np\n",
    "from time import sleep"
   ]
  },
  {
   "cell_type": "code",
   "execution_count": 2,
   "metadata": {},
   "outputs": [],
   "source": [
    "class Model(object):\n",
    "    \"class to load checkpoints and test them\"\n",
    "    def __init__(self, cp_path: str) -> None:\n",
    "        self.config = GENERAL_CONFIG.copy()\n",
    "        self.config['num_workers'] = 0\n",
    "        self.config['in_evaluation'] = True\n",
    "        self.config['explore'] = False\n",
    "        \n",
    "        self.agent = ApexTrainer(self.config, env=TrafficEnv)\n",
    "        self.agent.restore(cp_path)\n",
    "        self.policy = self.agent.workers.local_worker().get_policy('traffic_light')\n",
    "\n",
    "    def act(self, obs):\n",
    "        actions = {}\n",
    "        for ob in obs:\n",
    "            actions[ob] = self.policy.compute_single_action(np.array(obs[ob]).reshape(16,))[0]\n",
    "        # print(actions)\n",
    "        return actions\n",
    "    \n",
    "    def create_env(self):\n",
    "        return TrafficEnv(self.agent.config['env_config'])\n",
    "\n"
   ]
  },
  {
   "cell_type": "code",
   "execution_count": 3,
   "metadata": {},
   "outputs": [
    {
     "name": "stderr",
     "output_type": "stream",
     "text": [
      "2022-02-16 23:09:45,019\tWARNING trainer_template.py:185 -- `execution_plan` functions should accept `trainer`, `workers`, and `config` as args!\n",
      "2022-02-16 23:09:45,020\tWARNING util.py:57 -- Install gputil for GPU system monitoring.\n"
     ]
    },
    {
     "name": "stdout",
     "output_type": "stream",
     "text": [
      "WARNING:tensorflow:From /home/trey/anaconda3/envs/traffic_sim/lib/python3.8/site-packages/ray/rllib/utils/exploration/epsilon_greedy.py:212: Variable.load (from tensorflow.python.ops.variables) is deprecated and will be removed in a future version.\n",
      "Instructions for updating:\n",
      "Prefer Variable.assign which has equivalent behavior in 2.X.\n"
     ]
    },
    {
     "name": "stderr",
     "output_type": "stream",
     "text": [
      "2022-02-16 23:09:45,116\tINFO trainable.py:416 -- Restored on 192.168.0.206 from checkpoint: tune_data/testing_tune/APEX_TrafficEnv_75d92_00000_0_2022-02-16_21-45-41/checkpoint_000100/checkpoint-100\n",
      "2022-02-16 23:09:45,116\tINFO trainable.py:424 -- Current state after restoring: {'_iteration': 100, '_timesteps_total': 51200, '_time_total': 3718.4454550743103, '_episodes_total': 168}\n"
     ]
    }
   ],
   "source": [
    "my_model = Model(cp_path='tune_data/testing_tune/APEX_TrafficEnv_75d92_00000_0_2022-02-16_21-45-41/checkpoint_000100/checkpoint-100')"
   ]
  },
  {
   "cell_type": "code",
   "execution_count": 4,
   "metadata": {},
   "outputs": [],
   "source": [
    "env = my_model.create_env()"
   ]
  },
  {
   "cell_type": "code",
   "execution_count": null,
   "metadata": {},
   "outputs": [
    {
     "name": "stdout",
     "output_type": "stream",
     "text": [
      "[[1. 1. 1. 1.]\n",
      " [1. 1. 0. 1.]\n",
      " [0. 1. 1. 1.]\n",
      " [0. 0. 0. 1.]\n",
      " [1. 0. 1. 1.]]\n",
      "Added 14.0 lights...\n",
      "Found 19 roads\n"
     ]
    }
   ],
   "source": [
    "obs = env.reset()\n",
    "dones = {'__all__': False}\n",
    "\n",
    "total_reward = 0\n",
    "while not dones['__all__']:\n",
    "    env.render()\n",
    "    sleep(0.05)\n",
    "    actions = my_model.act(obs)\n",
    "    obs, rewards, dones, info = env.step(actions)\n",
    "    total_reward += sum(list(rewards.values()))\n",
    "\n",
    "print('Episode Complete')\n",
    "print('Total Reward: {}'.format(total_reward))"
   ]
  }
 ],
 "metadata": {
  "interpreter": {
   "hash": "cd071b9fac66b058de8442311ef2120847e7fb1c0394f9452dd834c9cbdf629f"
  },
  "kernelspec": {
   "display_name": "Python 3",
   "language": "python",
   "name": "python3"
  },
  "language_info": {
   "codemirror_mode": {
    "name": "ipython",
    "version": 3
   },
   "file_extension": ".py",
   "mimetype": "text/x-python",
   "name": "python",
   "nbconvert_exporter": "python",
   "pygments_lexer": "ipython3",
   "version": "3.8.8"
  }
 },
 "nbformat": 4,
 "nbformat_minor": 4
}
